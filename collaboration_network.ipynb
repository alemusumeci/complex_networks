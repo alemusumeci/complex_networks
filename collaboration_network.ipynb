{
 "cells": [
  {
   "cell_type": "markdown",
   "id": "cc716de4",
   "metadata": {},
   "source": [
    "# Construction of the network"
   ]
  },
  {
   "cell_type": "code",
   "execution_count": 1,
   "id": "99bd9592",
   "metadata": {},
   "outputs": [],
   "source": [
    "import csv\n",
    "import pandas as pd\n",
    "from collections import Counter\n",
    "from itertools import permutations\n",
    "from itertools import combinations\n",
    "import matplotlib.pyplot as plt\n",
    "from networkx.algorithms import bipartite\n",
    "import networkx as nx"
   ]
  },
  {
   "cell_type": "code",
   "execution_count": 2,
   "id": "a7887e07",
   "metadata": {},
   "outputs": [],
   "source": [
    "file_movies = 'title.basics.tsv/title.basics.tsv'\n",
    "movies = pd.read_csv(file_movies, sep='\\t', na_values='\\\\N', dtype={\n",
    "    'tconst': 'str',\n",
    "    'titleType': 'str',\n",
    "    'primaryTitle': 'str',\n",
    "    'startYear': 'Int64',\n",
    "}, usecols=['tconst', 'titleType', 'primaryTitle', 'startYear']).set_index('tconst')"
   ]
  },
  {
   "cell_type": "code",
   "execution_count": 3,
   "id": "4560515c",
   "metadata": {},
   "outputs": [],
   "source": [
    "movies = movies[(movies['startYear'] >= 1973) & (movies['titleType'] == 'movie')] \n",
    "del movies['titleType']"
   ]
  },
  {
   "cell_type": "code",
   "execution_count": 4,
   "id": "55f5d63a",
   "metadata": {},
   "outputs": [],
   "source": [
    "file_cast = 'title.principals.tsv/title.principal.tsv'\n",
    "cast = pd.read_csv(file_cast, sep='\\t', na_values='\\\\N', dtype={\n",
    "    'tconst': 'str',\n",
    "    'nconst': 'str',\n",
    "    'category': 'str',\n",
    "}, usecols=['tconst', 'nconst', 'category'])"
   ]
  },
  {
   "cell_type": "code",
   "execution_count": 5,
   "id": "f25da7f0",
   "metadata": {},
   "outputs": [],
   "source": [
    "cast = cast[cast.category.isin({'actor', 'actress'}) & cast['tconst'].isin(movies.index)]\n",
    "cast.reset_index(drop=True, inplace=True)"
   ]
  },
  {
   "cell_type": "code",
   "execution_count": 6,
   "id": "2d711d56",
   "metadata": {},
   "outputs": [],
   "source": [
    "file_name='name.basics.tsv/name.basics.tsv'\n",
    "name = pd.read_csv(file_name, sep='\\t', na_values='\\\\N', dtype={\n",
    "    'nconst': 'str',\n",
    "    'primaryName': 'str',\n",
    "    'birthYear': 'Int64'\n",
    "}, usecols=['nconst', 'primaryName', 'birthYear']).set_index('nconst')"
   ]
  },
  {
   "cell_type": "code",
   "execution_count": 7,
   "id": "18b81064",
   "metadata": {},
   "outputs": [],
   "source": [
    "def get_name_actor(actor_id):\n",
    "    name_actor=name.loc[actor_id]['primaryName']\n",
    "    return name_actor"
   ]
  },
  {
   "cell_type": "markdown",
   "id": "4702fc21",
   "metadata": {},
   "source": [
    "Creation of the network"
   ]
  },
  {
   "cell_type": "code",
   "execution_count": 8,
   "id": "8c80ef1c",
   "metadata": {},
   "outputs": [],
   "source": [
    "#we create a bipartite network:\n",
    "B = nx.Graph()\n",
    "\n",
    "actors = cast['nconst'].unique()\n",
    "movies = movies.index.unique()\n",
    "\n",
    "B.add_nodes_from(actors, bipartite=0)  # Actors belong to set 0\n",
    "B.add_nodes_from(movies, bipartite=1)  # Movies belong to set 1\n",
    "\n",
    "\n",
    "for _, row in cast.iterrows():\n",
    "    actor = row['nconst']\n",
    "    movie = row['tconst']\n",
    "    B.add_edge(actor, movie)"
   ]
  },
  {
   "cell_type": "code",
   "execution_count": 9,
   "id": "978e0568",
   "metadata": {},
   "outputs": [
    {
     "name": "stdout",
     "output_type": "stream",
     "text": [
      "Number of Actors: 592160\n",
      "Number of Movies: 426294\n"
     ]
    }
   ],
   "source": [
    "print(\"Number of Actors:\", len(actors))\n",
    "print(\"Number of Movies:\", len(movies))"
   ]
  },
  {
   "cell_type": "code",
   "execution_count": 10,
   "id": "5553b92b",
   "metadata": {},
   "outputs": [
    {
     "data": {
      "text/plain": [
       "1352739"
      ]
     },
     "execution_count": 10,
     "metadata": {},
     "output_type": "execute_result"
    }
   ],
   "source": [
    "B.number_of_edges()"
   ]
  },
  {
   "cell_type": "code",
   "execution_count": 11,
   "id": "598ce2f2",
   "metadata": {},
   "outputs": [],
   "source": [
    "proj_actors= bipartite.projected_graph(B, actors)"
   ]
  },
  {
   "cell_type": "code",
   "execution_count": 12,
   "id": "2660f061",
   "metadata": {},
   "outputs": [
    {
     "data": {
      "text/plain": [
       "False"
      ]
     },
     "execution_count": 12,
     "metadata": {},
     "output_type": "execute_result"
    }
   ],
   "source": [
    "nx.is_connected(proj_actors)"
   ]
  },
  {
   "cell_type": "code",
   "execution_count": 13,
   "id": "8f3c0ab1",
   "metadata": {},
   "outputs": [],
   "source": [
    "conn_comp=[len(c) for c in sorted(nx.connected_components(proj_actors), key=len, reverse=True)]"
   ]
  },
  {
   "cell_type": "code",
   "execution_count": 14,
   "id": "edc4bf1e",
   "metadata": {},
   "outputs": [],
   "source": [
    "largest_cc = max(nx.connected_components(proj_actors), key=len)"
   ]
  },
  {
   "cell_type": "code",
   "execution_count": 15,
   "id": "e60b8c6b",
   "metadata": {},
   "outputs": [],
   "source": [
    "A = proj_actors.subgraph(largest_cc)"
   ]
  },
  {
   "cell_type": "code",
   "execution_count": 16,
   "id": "5ac1004e",
   "metadata": {},
   "outputs": [
    {
     "data": {
      "text/plain": [
       "432920"
      ]
     },
     "execution_count": 16,
     "metadata": {},
     "output_type": "execute_result"
    }
   ],
   "source": [
    "A.number_of_nodes()"
   ]
  },
  {
   "cell_type": "code",
   "execution_count": 17,
   "id": "24388052",
   "metadata": {},
   "outputs": [
    {
     "data": {
      "text/plain": [
       "2103908"
      ]
     },
     "execution_count": 17,
     "metadata": {},
     "output_type": "execute_result"
    }
   ],
   "source": [
    "A.number_of_edges()"
   ]
  },
  {
   "cell_type": "markdown",
   "id": "ee418f15",
   "metadata": {},
   "source": [
    "# Centrality measures"
   ]
  },
  {
   "cell_type": "code",
   "execution_count": 18,
   "id": "fbd36dfc",
   "metadata": {},
   "outputs": [
    {
     "name": "stdout",
     "output_type": "stream",
     "text": [
      "Time taken = 4.493644952774048 seconds\n"
     ]
    }
   ],
   "source": [
    "import time\n",
    "start = time.time()\n",
    "D = nx.degree_centrality(A)\n",
    "end = time.time()\n",
    "print(\"Time taken =\", end-start, \"seconds\")"
   ]
  },
  {
   "cell_type": "code",
   "execution_count": 19,
   "id": "c5fca92c",
   "metadata": {
    "scrolled": true
   },
   "outputs": [
    {
     "name": "stdout",
     "output_type": "stream",
     "text": [
      "Brahmanandam with degree 0.0021643771698631846\n",
      "Eric Roberts with degree 0.002016543510448837\n",
      "Ron Jeremy with degree 0.0017947930213273152\n",
      "Shakti Kapoor with degree 0.0015314643154955084\n",
      "Mithun Chakraborty with degree 0.0014852662969285248\n",
      "Mohan Joshi with degree 0.0014228989718630969\n",
      "Raza Murad with degree 0.0013974900616512559\n",
      "Nassar with degree 0.001325883132872431\n",
      "Kiran Kumar with degree 0.0013166435291590345\n",
      "Avinash with degree 0.0013097138263739867\n"
     ]
    }
   ],
   "source": [
    "sorted_nodes = sorted(D.items(), key=lambda x: x[1], reverse=True)\n",
    "for i in range(10): \n",
    "    actor_id, centrality = sorted_nodes[i]\n",
    "    name_actor=get_name_actor(actor_id)\n",
    "    print(name_actor,'with degree',centrality)"
   ]
  },
  {
   "cell_type": "code",
   "execution_count": 20,
   "id": "efa73190",
   "metadata": {
    "scrolled": true
   },
   "outputs": [],
   "source": [
    "start = time.time()\n",
    "BC = nx.betweenness_centrality(A, k=1000) \n",
    "end = time.time()"
   ]
  },
  {
   "cell_type": "code",
   "execution_count": 21,
   "id": "f6f509ca",
   "metadata": {},
   "outputs": [
    {
     "name": "stdout",
     "output_type": "stream",
     "text": [
      "Eric Roberts with betweenness centrality 0.05876902340504162\n",
      "Michael Madsen with betweenness centrality 0.025280495898382733\n",
      "Tom Sizemore with betweenness centrality 0.017463781915745057\n",
      "Gulshan Grover with betweenness centrality 0.0172929569775084\n",
      "Ron Jeremy with betweenness centrality 0.014297400140226941\n",
      "John Savage with betweenness centrality 0.013227693594400288\n",
      "Anupam Kher with betweenness centrality 0.012431442126895304\n",
      "Om Puri with betweenness centrality 0.010341560677894301\n",
      "Franco Nero with betweenness centrality 0.010293940551445816\n",
      "Udo Kier with betweenness centrality 0.009417537932448324\n"
     ]
    }
   ],
   "source": [
    "btw_sorted= sorted(BC.items(), key=lambda item: item[1], reverse=True)\n",
    "for i in range(10): \n",
    "    actor_id, btw_centrality = btw_sorted[i]\n",
    "    name_actor=get_name_actor(actor_id)\n",
    "    print(name_actor,'with betweenness centrality',btw_centrality)"
   ]
  },
  {
   "cell_type": "code",
   "execution_count": 22,
   "id": "33fda116",
   "metadata": {},
   "outputs": [
    {
     "name": "stdout",
     "output_type": "stream",
     "text": [
      "Time taken = 26490.03903388977 seconds\n"
     ]
    }
   ],
   "source": [
    "V = [btw_sorted[i][0] for i in range(len(btw_sorted))]\n",
    "clos_centr = {}\n",
    "start = time.time()\n",
    "for i in range(1000):\n",
    "    clos_centr[V[i]] = nx.closeness_centrality(A, V[i])\n",
    "end = time.time()\n",
    "print(\"Time taken =\", end-start, \"seconds\")\n",
    "cc_sorted = sorted(clos_centr.items(), key=lambda item: item[1], reverse=True)"
   ]
  },
  {
   "cell_type": "code",
   "execution_count": 23,
   "id": "51ddb0cb",
   "metadata": {},
   "outputs": [
    {
     "name": "stdout",
     "output_type": "stream",
     "text": [
      "Eric Roberts with closeness centrality 0.2445255288924536\n",
      "Michael Madsen with closeness centrality 0.2404512442486409\n",
      "John Savage with closeness centrality 0.23666294203570398\n",
      "Tom Sizemore with closeness centrality 0.23362636532400813\n",
      "Harvey Keitel with closeness centrality 0.2318421079408194\n",
      "David Carradine with closeness centrality 0.2317878631799535\n",
      "Franco Nero with closeness centrality 0.23161772180342516\n",
      "Armand Assante with closeness centrality 0.23089025647480346\n",
      "Malcolm McDowell with closeness centrality 0.22985022960122284\n",
      "Willem Dafoe with closeness centrality 0.22970656261258657\n"
     ]
    }
   ],
   "source": [
    "for i in range(10): \n",
    "    actor_id, clos_centrality = cc_sorted[i]\n",
    "    #actor_name = get_name(actor_id)\n",
    "    name_actor=get_name_actor(actor_id)\n",
    "    print(name_actor,'with closeness centrality',clos_centrality)"
   ]
  },
  {
   "cell_type": "markdown",
   "id": "2d12062d",
   "metadata": {},
   "source": [
    "# Community structure"
   ]
  },
  {
   "cell_type": "markdown",
   "id": "54e2dbea",
   "metadata": {},
   "source": [
    "Clustering coefficient"
   ]
  },
  {
   "cell_type": "code",
   "execution_count": 47,
   "id": "75d40a9a",
   "metadata": {},
   "outputs": [],
   "source": [
    "clus_coeff=nx.clustering(A)"
   ]
  },
  {
   "cell_type": "code",
   "execution_count": 48,
   "id": "32b76b0c",
   "metadata": {
    "scrolled": false
   },
   "outputs": [
    {
     "data": {
      "image/png": "[encoded data removed]",
      "text/plain": [
       "<Figure size 640x480 with 1 Axes>"
      ]
     },
     "metadata": {},
     "output_type": "display_data"
    }
   ],
   "source": [
    "plt.hist(list(clus_coeff.values()), bins=20, edgecolor='k')\n",
    "plt.xlabel('Clustering Coefficient')\n",
    "plt.ylabel('Frequency')\n",
    "plt.title('Clustering Coefficient Distribution')\n",
    "plt.show()"
   ]
  },
  {
   "cell_type": "code",
   "execution_count": 49,
   "id": "66e28ab5",
   "metadata": {},
   "outputs": [
    {
     "data": {
      "text/plain": [
       "0.7626961529179176"
      ]
     },
     "execution_count": 49,
     "metadata": {},
     "output_type": "execute_result"
    }
   ],
   "source": [
    "nx.average_clustering(A)"
   ]
  },
  {
   "cell_type": "markdown",
   "id": "8c7d3835",
   "metadata": {},
   "source": [
    "# Community detection"
   ]
  },
  {
   "cell_type": "code",
   "execution_count": 26,
   "id": "6d238a3c",
   "metadata": {},
   "outputs": [
    {
     "name": "stdout",
     "output_type": "stream",
     "text": [
      "Time taken = 298.08148097991943 seconds\n"
     ]
    }
   ],
   "source": [
    "start = time.time()\n",
    "louvain_communities=nx.community.louvain_communities(A)\n",
    "end = time.time()\n",
    "print(\"Time taken =\", end-start, \"seconds\")"
   ]
  },
  {
   "cell_type": "code",
   "execution_count": 51,
   "id": "2bd2fd7a",
   "metadata": {
    "scrolled": false
   },
   "outputs": [],
   "source": [
    "# Count how many communities have each size\n",
    "community_sizes_l = [len(community) for community in louvain_communities]"
   ]
  },
  {
   "cell_type": "code",
   "execution_count": 52,
   "id": "750f20c1",
   "metadata": {},
   "outputs": [
    {
     "data": {
      "text/plain": [
       "Text(0.5, 1.0, 'Histogram of Louvain Communities')"
      ]
     },
     "execution_count": 52,
     "metadata": {},
     "output_type": "execute_result"
    },
    {
     "data": {
      "image/png": "[encoded data removed]",
      "text/plain": [
       "<Figure size 1000x600 with 1 Axes>"
      ]
     },
     "metadata": {},
     "output_type": "display_data"
    }
   ],
   "source": [
    "plt.figure(figsize=(10, 6))\n",
    "plt.hist(community_sizes_l, bins=20, edgecolor='black')  # You can adjust the number of bins as needed\n",
    "plt.xlabel('Community Size')\n",
    "plt.ylabel('Number of Communities')\n",
    "plt.title('Histogram of Louvain Communities')"
   ]
  },
  {
   "cell_type": "code",
   "execution_count": 43,
   "id": "e2793e9a",
   "metadata": {},
   "outputs": [
    {
     "name": "stdout",
     "output_type": "stream",
     "text": [
      "1279\n"
     ]
    }
   ],
   "source": [
    "print(len(community_sizes_l))"
   ]
  },
  {
   "cell_type": "markdown",
   "id": "7ad79cd7",
   "metadata": {},
   "source": [
    "# Assortativity"
   ]
  },
  {
   "cell_type": "code",
   "execution_count": 30,
   "id": "e0051e3e",
   "metadata": {},
   "outputs": [],
   "source": [
    "node_degrees = dict(A.degree())\n",
    "average_degree_connectivity = nx.average_degree_connectivity(A)\n",
    "\n",
    "degrees = list(node_degrees.values())\n",
    "avg_deg_connectivity = [average_degree_connectivity[deg] for deg in degrees]"
   ]
  },
  {
   "cell_type": "code",
   "execution_count": 37,
   "id": "5c6980ef",
   "metadata": {},
   "outputs": [
    {
     "data": {
      "image/png": "[encoded data removed]",
      "text/plain": [
       "<Figure size 640x480 with 1 Axes>"
      ]
     },
     "metadata": {},
     "output_type": "display_data"
    }
   ],
   "source": [
    "plt.scatter(degrees, avg_deg_connectivity, alpha=0.5)\n",
    "plt.xlabel(\"$k$\")\n",
    "plt.ylabel(\"$<k_{NN}>$\") \n",
    "plt.title(\"Node Degree vs. Average Degree Connectivity\")\n",
    "plt.grid(True)\n",
    "plt.show()"
   ]
  },
  {
   "cell_type": "code",
   "execution_count": 38,
   "id": "13ff6aba",
   "metadata": {},
   "outputs": [
    {
     "data": {
      "text/plain": [
       "0.24671357730456878"
      ]
     },
     "execution_count": 38,
     "metadata": {},
     "output_type": "execute_result"
    }
   ],
   "source": [
    "nx.degree_assortativity_coefficient(A)"
   ]
  },
  {
   "cell_type": "code",
   "execution_count": null,
   "id": "bbc32a12",
   "metadata": {},
   "outputs": [],
   "source": []
  }
 ],
 "metadata": {
  "kernelspec": {
   "display_name": "Python 3 (ipykernel)",
   "language": "python",
   "name": "python3"
  },
  "language_info": {
   "codemirror_mode": {
    "name": "ipython",
    "version": 3
   },
   "file_extension": ".py",
   "mimetype": "text/x-python",
   "name": "python",
   "nbconvert_exporter": "python",
   "pygments_lexer": "ipython3",
   "version": "3.9.16"
  }
 },
 "nbformat": 4,
 "nbformat_minor": 5
}

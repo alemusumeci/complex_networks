{
 "cells": [
  {
   "cell_type": "markdown",
   "id": "17fcf49d",
   "metadata": {},
   "source": [
    "# Actor Collaboration Network"
   ]
  },
  {
   "cell_type": "code",
   "execution_count": 1,
   "id": "bbdc36cb",
   "metadata": {},
   "outputs": [],
   "source": [
    "import csv\n",
    "import pandas as pd\n",
    "from collections import Counter\n",
    "from itertools import permutations\n",
    "from itertools import combinations\n",
    "import matplotlib.pyplot as plt\n",
    "from networkx.algorithms import bipartite\n",
    "import networkx as nx"
   ]
  },
  {
   "cell_type": "code",
   "execution_count": 2,
   "id": "8a3bf0a0",
   "metadata": {},
   "outputs": [],
   "source": [
    "file_movies = 'title.basics.tsv/title.basics.tsv'\n",
    "movies = pd.read_csv(file_movies, sep='\\t', na_values='\\\\N', dtype={\n",
    "    'tconst': 'str',\n",
    "    'titleType': 'str',\n",
    "    'primaryTitle': 'str',\n",
    "    'startYear': 'Int64',\n",
    "}, usecols=['tconst', 'titleType', 'primaryTitle', 'startYear']).set_index('tconst')"
   ]
  },
  {
   "cell_type": "code",
   "execution_count": 3,
   "id": "731c2cc1",
   "metadata": {},
   "outputs": [],
   "source": [
    "movies = movies[(movies['startYear'] >= 2003) & (movies['titleType'] == 'movie')] #try 1983\n",
    "del movies['titleType']"
   ]
  },
  {
   "cell_type": "code",
   "execution_count": 4,
   "id": "6aae63ea",
   "metadata": {},
   "outputs": [],
   "source": [
    "file_akas = 'title.akas.tsv/title.akas.tsv'\n",
    "akas_data = pd.read_csv(file_akas, sep='\\t', na_values='\\\\N', dtype={\n",
    "    'titleId': 'str',\n",
    "    'ordering': 'int',\n",
    "    'title': 'str',\n",
    "    'region': 'str',\n",
    "    'language': 'str',\n",
    "    'types': 'str',\n",
    "    'attributes': 'str',\n",
    "})"
   ]
  },
  {
   "cell_type": "code",
   "execution_count": 5,
   "id": "08bdaa82",
   "metadata": {},
   "outputs": [],
   "source": [
    "#filter the regions\n",
    "allowed_regions = ['IT']\n",
    "filtered_akas_data = akas_data[(akas_data['region'].isin(allowed_regions)) & (akas_data['ordering'] == 1)]\n",
    "unique_title_ids = filtered_akas_data['titleId'].unique()\n",
    "final_movies = movies[movies.index.isin(unique_title_ids)]"
   ]
  },
  {
   "cell_type": "code",
   "execution_count": 6,
   "id": "205b8fb8",
   "metadata": {},
   "outputs": [],
   "source": [
    "file_cast = 'title.principals.tsv/title.principal.tsv'\n",
    "cast = pd.read_csv(file_cast, sep='\\t', na_values='\\\\N', dtype={\n",
    "    'tconst': 'str',\n",
    "    'nconst': 'str',\n",
    "    'category': 'str',\n",
    "}, usecols=['tconst', 'nconst', 'category'])"
   ]
  },
  {
   "cell_type": "code",
   "execution_count": 7,
   "id": "912198e6",
   "metadata": {},
   "outputs": [],
   "source": [
    "cast = cast[cast.category.isin({'actor', 'actress'}) & cast['tconst'].isin(movies.index)]\n",
    "cast.reset_index(drop=True, inplace=True)"
   ]
  },
  {
   "cell_type": "code",
   "execution_count": 8,
   "id": "97fdb170",
   "metadata": {},
   "outputs": [],
   "source": [
    "#we create a bipartite network:\n",
    "B = nx.Graph()\n",
    "\n",
    "actors = cast['nconst'].unique()\n",
    "movies = movies.index.unique()\n",
    "\n",
    "B.add_nodes_from(actors, bipartite=0)  # Actors belong to set 0\n",
    "B.add_nodes_from(movies, bipartite=1)  # Movies belong to set 1\n",
    "\n",
    "\n",
    "for _, row in cast.iterrows():\n",
    "    actor = row['nconst']\n",
    "    movie = row['tconst']\n",
    "    B.add_edge(actor, movie)"
   ]
  },
  {
   "cell_type": "code",
   "execution_count": 9,
   "id": "5b97dd54",
   "metadata": {
    "scrolled": true
   },
   "outputs": [
    {
     "name": "stdout",
     "output_type": "stream",
     "text": [
      "Number of Actors: 459478\n",
      "Number of Movies: 293353\n"
     ]
    }
   ],
   "source": [
    "print(\"Number of Actors:\", len(actors))\n",
    "print(\"Number of Movies:\", len(movies))"
   ]
  },
  {
   "cell_type": "code",
   "execution_count": 10,
   "id": "d1c42319",
   "metadata": {},
   "outputs": [],
   "source": [
    "def collaboration_weight(G, u, v):\n",
    "    common_neighbors = list(nx.common_neighbors(G, u, v))\n",
    "    return len(common_neighbors)\n",
    "\n",
    "proj_actors= bipartite.generic_weighted_projected_graph(B, actors, weight_function=collaboration_weight)"
   ]
  },
  {
   "cell_type": "code",
   "execution_count": 11,
   "id": "7ec0f2c6",
   "metadata": {},
   "outputs": [
    {
     "data": {
      "text/plain": [
       "False"
      ]
     },
     "execution_count": 11,
     "metadata": {},
     "output_type": "execute_result"
    }
   ],
   "source": [
    "nx.is_bipartite(proj_actors)"
   ]
  },
  {
   "cell_type": "code",
   "execution_count": 12,
   "id": "604ac495",
   "metadata": {},
   "outputs": [],
   "source": [
    "#we create a weighted collaboration network \n",
    "#other=bipartite.weighted_projected_graph(B,actors)\n",
    "#nx.is_connected(other)"
   ]
  },
  {
   "cell_type": "code",
   "execution_count": 13,
   "id": "05736d39",
   "metadata": {},
   "outputs": [
    {
     "data": {
      "text/plain": [
       "False"
      ]
     },
     "execution_count": 13,
     "metadata": {},
     "output_type": "execute_result"
    }
   ],
   "source": [
    "nx.is_connected(proj_actors)"
   ]
  },
  {
   "cell_type": "code",
   "execution_count": 14,
   "id": "13a8095c",
   "metadata": {
    "scrolled": true
   },
   "outputs": [],
   "source": [
    "conn_comp=[len(c) for c in sorted(nx.connected_components(proj_actors), key=len, reverse=True)]"
   ]
  },
  {
   "cell_type": "code",
   "execution_count": 15,
   "id": "3d894c91",
   "metadata": {},
   "outputs": [],
   "source": [
    "largest_cc = max(nx.connected_components(proj_actors), key=len)"
   ]
  },
  {
   "cell_type": "code",
   "execution_count": 16,
   "id": "f1628edc",
   "metadata": {},
   "outputs": [
    {
     "name": "stdout",
     "output_type": "stream",
     "text": [
      "Number of Actors: 314331\n"
     ]
    }
   ],
   "source": [
    "print(\"Number of Actors:\", len(largest_cc))"
   ]
  },
  {
   "cell_type": "code",
   "execution_count": 17,
   "id": "2a628fd6",
   "metadata": {},
   "outputs": [],
   "source": [
    "A = proj_actors.subgraph(largest_cc)"
   ]
  },
  {
   "cell_type": "code",
   "execution_count": 18,
   "id": "376be5fe",
   "metadata": {},
   "outputs": [
    {
     "data": {
      "text/plain": [
       "True"
      ]
     },
     "execution_count": 18,
     "metadata": {},
     "output_type": "execute_result"
    }
   ],
   "source": [
    "nx.is_connected(A)"
   ]
  },
  {
   "cell_type": "code",
   "execution_count": 19,
   "id": "3cf8e1d3",
   "metadata": {},
   "outputs": [
    {
     "data": {
      "text/plain": [
       "True"
      ]
     },
     "execution_count": 19,
     "metadata": {},
     "output_type": "execute_result"
    }
   ],
   "source": [
    "initial_graph=A.copy()\n",
    "nx.is_connected(initial_graph)"
   ]
  },
  {
   "cell_type": "code",
   "execution_count": null,
   "id": "ec258903",
   "metadata": {},
   "outputs": [],
   "source": [
    "import time\n",
    "start = time.time()\n",
    "diameter = nx.diameter(A)\n",
    "end = time.time()"
   ]
  },
  {
   "cell_type": "markdown",
   "id": "644eede0",
   "metadata": {},
   "source": [
    "# Centrality measures"
   ]
  },
  {
   "cell_type": "code",
   "execution_count": null,
   "id": "c3b872fd",
   "metadata": {},
   "outputs": [],
   "source": [
    "#degree centrality \n",
    "D = nx.degree_centrality(A)\n",
    "degree_sort = sorted(D.items(), key=lambda item:item[1], reverse=True)"
   ]
  },
  {
   "cell_type": "code",
   "execution_count": null,
   "id": "27016dbc",
   "metadata": {},
   "outputs": [],
   "source": [
    "import time\n",
    "\n",
    "start = time.time()\n",
    "BC = nx.betweenness_centrality(A, k=1000) \n",
    "end = time.time()\n",
    "print(\"Time taken =\", end-start, \"seconds\")\n",
    "btw_sort= sorted(BC.items(), key=lambda item: item[1], reverse=True)"
   ]
  },
  {
   "cell_type": "code",
   "execution_count": null,
   "id": "ff9fa4db",
   "metadata": {},
   "outputs": [],
   "source": [
    "V = [btw_sort[i][0] for i in range(len(btw_sort))]\n",
    "CC = {}\n",
    "start = time.time()\n",
    "for i in range(1000):\n",
    "    CC[V[i]] = nx.closeness_centrality(A, V[i])\n",
    "end = time.time()\n",
    "print(\"Time taken =\", end-start, \"seconds\")\n",
    "#L = sorted(D.items(), key=lambda item: item[1], reverse=True)"
   ]
  },
  {
   "cell_type": "markdown",
   "id": "47113267",
   "metadata": {},
   "source": [
    "## Network perturbation"
   ]
  },
  {
   "cell_type": "code",
   "execution_count": null,
   "id": "f533bff6",
   "metadata": {},
   "outputs": [],
   "source": [
    "import random \n",
    "\n",
    "sorted_nodes=sorted(D.items(),key=lambda x: x[1], reverse=True)\n",
    "top_nodes = [node for node, centrality in sorted_nodes[:10000]]\n",
    "\n",
    "actors_remove_top = proj_actors.copy()\n",
    "actors_remove_top.remove_nodes_from(top_nodes)"
   ]
  },
  {
   "cell_type": "code",
   "execution_count": null,
   "id": "ffa54509",
   "metadata": {},
   "outputs": [],
   "source": [
    "top_cc = max(nx.connected_components(actors_remove_top), key=len)\n",
    "print(\"Number of Actors:\", len(top_cc))"
   ]
  },
  {
   "cell_type": "code",
   "execution_count": null,
   "id": "60db0a48",
   "metadata": {},
   "outputs": [],
   "source": [
    "print(\"Number of Actors:\", len(top_cc))\n",
    "print(len()len(top_cc))"
   ]
  },
  {
   "cell_type": "code",
   "execution_count": null,
   "id": "f0df0e2f",
   "metadata": {},
   "outputs": [],
   "source": [
    "random_nodes=random.sample(proj_actors.nodes(), 10000)\n",
    "\n",
    "actors_remove_random = proj_actors.copy()\n",
    "actors_remove_random.remove_nodes_from(random_nodes)"
   ]
  },
  {
   "cell_type": "code",
   "execution_count": null,
   "id": "acf5b00c",
   "metadata": {},
   "outputs": [],
   "source": [
    "random_cc = max(nx.connected_components(actors_remove_random), key=len)"
   ]
  },
  {
   "cell_type": "code",
   "execution_count": null,
   "id": "275da5f2",
   "metadata": {},
   "outputs": [],
   "source": [
    "print(\"Number of Actors:\", len(top_cc))\n",
    "print(len(random_cc))"
   ]
  },
  {
   "cell_type": "code",
   "execution_count": null,
   "id": "65525c13",
   "metadata": {},
   "outputs": [],
   "source": [
    "# Calculate the degree of each node\n",
    "\n",
    "top_cc_graph = actors_remove_top.subgraph(top_cc)\n",
    "node_degrees = dict(top_cc_graph.degree())\n",
    "node_degrees_A = dict(A.degree())\n",
    "\n",
    "# Calculate the average degree connectivity\n",
    "average_degree_connectivity = nx.average_degree_connectivity(top_cc_graph)\n",
    "average_degree_connectivity_A = nx.average_degree_connectivity(A)\n",
    "\n",
    "# Extract the degrees and corresponding average degree connectivity\n",
    "degrees = list(node_degrees.values())\n",
    "avg_deg_connectivity = [average_degree_connectivity[deg] for deg in degrees]\n",
    "\n",
    "\n",
    "degrees_A = list(node_degrees_A.values())\n",
    "avg_deg_connectivity_A = [average_degree_connectivity_A[deg] for deg in degrees_A]\n",
    "\n",
    "# Plot the connectivity (degree) of each node vs. average degree connectivity\n",
    "plt.scatter(degrees, avg_deg_connectivity, alpha=0.5)\n",
    "plt.scatter(degrees_A, avg_deg_connectivity_A, alpha=0.5)\n",
    "plt.xlabel(\"Node Degree (Connectivity)\")\n",
    "plt.ylabel(\"Average Degree Connectivity\")\n",
    "plt.title(\"Node Degree vs. Average Degree Connectivity\")\n",
    "plt.grid(True)\n",
    "plt.show()"
   ]
  },
  {
   "cell_type": "code",
   "execution_count": null,
   "id": "13f07e80",
   "metadata": {},
   "outputs": [],
   "source": [
    "\n",
    "# Plot the connectivity (degree) of each node vs. average degree connectivity\n",
    "plt.scatter(degrees, avg_deg_connectivity, alpha=0.5)\n",
    "plt.scatter(degrees_A, avg_deg_connectivity_A, alpha=0.5)\n",
    "plt.xlabel(\"Node Degree (Connectivity)\")\n",
    "plt.ylabel(\"Average Degree Connectivity\")\n",
    "plt.title(\"Node Degree vs. Average Degree Connectivity\")\n",
    "plt.grid(True)\n",
    "plt.show()"
   ]
  },
  {
   "cell_type": "code",
   "execution_count": null,
   "id": "00ad14e8",
   "metadata": {
    "scrolled": false
   },
   "outputs": [],
   "source": [
    "import networkx as nx\n",
    "import matplotlib.pyplot as plt\n",
    "import random\n",
    "\n",
    "# Create your initial graph (A) here or load it\n",
    "\n",
    "# Initialize lists to store results\n",
    "fraction_removed = []\n",
    "diameters = []\n",
    "\n",
    "# Set the number of nodes to remove at each iteration\n",
    "nodes_to_remove = 50000\n",
    "\n",
    "\n",
    "# Get the initial number of nodes in the graph\n",
    "initial_node_count = len(initial_graph.nodes())\n",
    "\n",
    "\n",
    "# Loop to iteratively remove nodes and compute diameter\n",
    "while len(initial_graph.nodes()) > nodes_to_remove:\n",
    "    # Randomly sample nodes to remove\n",
    "    nodes_to_remove_list = random.sample(initial_graph.nodes(), nodes_to_remove)\n",
    "    \n",
    "    # Remove the sampled nodes\n",
    "    \n",
    "    new_largest_cc = max(nx.connected_components(initial_graph.remove_nodes_from(nodes_to_remove_list)), key=len)\n",
    "    new_graph=initial_graph.remove_nodes_from(nodes_to_remove_list).subgraph(new_largest_cc)\n",
    "    \n",
    "    # Compute the diameter of the remaining graph\n",
    "    diameter = nx.diameter(initial_graph)\n",
    "    \n",
    "    # Calculate the fraction of removed nodes\n",
    "    removed_fraction = (initial_node_count - len(initial_graph.nodes())) / initial_node_count\n",
    "    \n",
    "    # Append results to lists\n",
    "    fraction_removed.append(removed_fraction)\n",
    "    diameters.append(diameter)\n",
    "\n",
    "# Plot the changes in diameter as a function of the fraction of removed nodes\n",
    "plt.figure(figsize=(10, 6))\n",
    "plt.plot(fraction_removed, diameters, marker='o', linestyle='-', color='b')\n",
    "plt.xlabel('Fraction of Removed Nodes')\n",
    "plt.ylabel('Diameter')\n",
    "plt.title('Changes in Diameter vs. Fraction of Removed Nodes')\n",
    "plt.grid(True)\n",
    "plt.show()"
   ]
  },
  {
   "cell_type": "code",
   "execution_count": null,
   "id": "1f562da8",
   "metadata": {},
   "outputs": [],
   "source": []
  }
 ],
 "metadata": {
  "kernelspec": {
   "display_name": "Python 3 (ipykernel)",
   "language": "python",
   "name": "python3"
  },
  "language_info": {
   "codemirror_mode": {
    "name": "ipython",
    "version": 3
   },
   "file_extension": ".py",
   "mimetype": "text/x-python",
   "name": "python",
   "nbconvert_exporter": "python",
   "pygments_lexer": "ipython3",
   "version": "3.9.16"
  }
 },
 "nbformat": 4,
 "nbformat_minor": 5
}

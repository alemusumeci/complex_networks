{
 "cells": [
  {
   "cell_type": "markdown",
   "id": "17fcf49d",
   "metadata": {},
   "source": [
    "# Actor Collaboration Network"
   ]
  },
  {
   "cell_type": "code",
   "execution_count": 1,
   "id": "bbdc36cb",
   "metadata": {},
   "outputs": [],
   "source": [
    "import csv\n",
    "import pandas as pd\n",
    "from collections import Counter\n",
    "from itertools import permutations\n",
    "from itertools import combinations\n",
    "import matplotlib.pyplot as plt\n",
    "from networkx.algorithms import bipartite\n",
    "import networkx as nx\n",
    "import random "
   ]
  },
  {
   "cell_type": "code",
   "execution_count": 2,
   "id": "8a3bf0a0",
   "metadata": {},
   "outputs": [],
   "source": [
    "file_movies = 'title.basics.tsv/title.basics.tsv'\n",
    "movies = pd.read_csv(file_movies, sep='\\t', na_values='\\\\N', dtype={\n",
    "    'tconst': 'str',\n",
    "    'titleType': 'str',\n",
    "    'primaryTitle': 'str',\n",
    "    'startYear': 'Int64',\n",
    "}, usecols=['tconst', 'titleType', 'primaryTitle', 'startYear']).set_index('tconst')"
   ]
  },
  {
   "cell_type": "code",
   "execution_count": 3,
   "id": "731c2cc1",
   "metadata": {},
   "outputs": [],
   "source": [
    "movies = movies[(movies['startYear'] >= 2003) & (movies['titleType'] == 'movie')] #try 1983\n",
    "del movies['titleType']"
   ]
  },
  {
   "cell_type": "code",
   "execution_count": 4,
   "id": "6aae63ea",
   "metadata": {},
   "outputs": [],
   "source": [
    "file_akas = 'title.akas.tsv/title.akas.tsv'\n",
    "akas_data = pd.read_csv(file_akas, sep='\\t', na_values='\\\\N', dtype={\n",
    "    'titleId': 'str',\n",
    "    'ordering': 'int',\n",
    "    'title': 'str',\n",
    "    'region': 'str',\n",
    "    'language': 'str',\n",
    "    'types': 'str',\n",
    "    'attributes': 'str',\n",
    "})"
   ]
  },
  {
   "cell_type": "code",
   "execution_count": 5,
   "id": "a0500b10",
   "metadata": {},
   "outputs": [],
   "source": [
    "#filter the regions\n",
    "allowed_regions = ['GB']\n",
    "filtered_akas_data = akas_data[(akas_data['region'].isin(allowed_regions)) & (akas_data['ordering'] == 1)]\n",
    "unique_title_ids = filtered_akas_data['titleId'].unique()\n",
    "final_movies = movies[movies.index.isin(unique_title_ids)]"
   ]
  },
  {
   "cell_type": "code",
   "execution_count": 6,
   "id": "205b8fb8",
   "metadata": {},
   "outputs": [],
   "source": [
    "file_cast = 'title.principals.tsv/title.principal.tsv'\n",
    "cast = pd.read_csv(file_cast, sep='\\t', na_values='\\\\N', dtype={\n",
    "    'tconst': 'str',\n",
    "    'nconst': 'str',\n",
    "    'category': 'str',\n",
    "}, usecols=['tconst', 'nconst', 'category'])"
   ]
  },
  {
   "cell_type": "code",
   "execution_count": 7,
   "id": "912198e6",
   "metadata": {},
   "outputs": [],
   "source": [
    "cast = cast[cast.category.isin({'actor', 'actress'}) & cast['tconst'].isin(final_movies.index)]\n",
    "cast.reset_index(drop=True, inplace=True)"
   ]
  },
  {
   "cell_type": "code",
   "execution_count": 8,
   "id": "97fdb170",
   "metadata": {},
   "outputs": [],
   "source": [
    "#we create a bipartite network:\n",
    "B = nx.Graph()\n",
    "\n",
    "actors = cast['nconst'].unique()\n",
    "movies = final_movies.index.unique()\n",
    "\n",
    "B.add_nodes_from(actors, bipartite=0)  # Actors belong to set 0\n",
    "B.add_nodes_from(movies, bipartite=1)  # Movies belong to set 1\n",
    "\n",
    "\n",
    "for _, row in cast.iterrows():\n",
    "    actor = row['nconst']\n",
    "    movie = row['tconst']\n",
    "    B.add_edge(actor, movie)"
   ]
  },
  {
   "cell_type": "code",
   "execution_count": 9,
   "id": "5b97dd54",
   "metadata": {
    "scrolled": true
   },
   "outputs": [
    {
     "name": "stdout",
     "output_type": "stream",
     "text": [
      "Number of Actors: 43983\n",
      "Number of Movies: 17699\n"
     ]
    }
   ],
   "source": [
    "print(\"Number of Actors:\", len(actors))\n",
    "print(\"Number of Movies:\", len(movies))"
   ]
  },
  {
   "cell_type": "code",
   "execution_count": 10,
   "id": "d1c42319",
   "metadata": {},
   "outputs": [],
   "source": [
    "proj_actors= bipartite.projected_graph(B, actors)"
   ]
  },
  {
   "cell_type": "code",
   "execution_count": 11,
   "id": "44b64afe",
   "metadata": {},
   "outputs": [
    {
     "data": {
      "text/plain": [
       "False"
      ]
     },
     "execution_count": 11,
     "metadata": {},
     "output_type": "execute_result"
    }
   ],
   "source": [
    "nx.is_bipartite(proj_actors)"
   ]
  },
  {
   "cell_type": "code",
   "execution_count": 12,
   "id": "05736d39",
   "metadata": {},
   "outputs": [
    {
     "data": {
      "text/plain": [
       "False"
      ]
     },
     "execution_count": 12,
     "metadata": {},
     "output_type": "execute_result"
    }
   ],
   "source": [
    "nx.is_connected(proj_actors)"
   ]
  },
  {
   "cell_type": "code",
   "execution_count": 13,
   "id": "13a8095c",
   "metadata": {
    "scrolled": true
   },
   "outputs": [],
   "source": [
    "conn_comp=[len(c) for c in sorted(nx.connected_components(proj_actors), key=len, reverse=True)]"
   ]
  },
  {
   "cell_type": "code",
   "execution_count": 14,
   "id": "3d894c91",
   "metadata": {},
   "outputs": [],
   "source": [
    "largest_cc = max(nx.connected_components(proj_actors), key=len)"
   ]
  },
  {
   "cell_type": "code",
   "execution_count": 15,
   "id": "d584c16e",
   "metadata": {},
   "outputs": [
    {
     "name": "stdout",
     "output_type": "stream",
     "text": [
      "Number of Actors: 12717\n"
     ]
    }
   ],
   "source": [
    "print(\"Number of Actors:\", len(largest_cc))"
   ]
  },
  {
   "cell_type": "code",
   "execution_count": 16,
   "id": "2a628fd6",
   "metadata": {},
   "outputs": [],
   "source": [
    "A = proj_actors.subgraph(largest_cc)"
   ]
  },
  {
   "cell_type": "code",
   "execution_count": 17,
   "id": "4b17ea7b",
   "metadata": {},
   "outputs": [
    {
     "data": {
      "text/plain": [
       "12717"
      ]
     },
     "execution_count": 17,
     "metadata": {},
     "output_type": "execute_result"
    }
   ],
   "source": [
    "A.number_of_nodes()"
   ]
  },
  {
   "cell_type": "code",
   "execution_count": 18,
   "id": "a9de2567",
   "metadata": {},
   "outputs": [
    {
     "data": {
      "text/plain": [
       "True"
      ]
     },
     "execution_count": 18,
     "metadata": {},
     "output_type": "execute_result"
    }
   ],
   "source": [
    "nx.is_connected(A)"
   ]
  },
  {
   "cell_type": "code",
   "execution_count": 19,
   "id": "20fdfd78",
   "metadata": {},
   "outputs": [
    {
     "data": {
      "text/plain": [
       "True"
      ]
     },
     "execution_count": 19,
     "metadata": {},
     "output_type": "execute_result"
    }
   ],
   "source": [
    "initial_graph=A.copy()\n",
    "nx.is_connected(initial_graph)"
   ]
  },
  {
   "cell_type": "code",
   "execution_count": 20,
   "id": "10b3890f",
   "metadata": {},
   "outputs": [],
   "source": [
    "import time\n",
    "start = time.time()\n",
    "diameter = nx.diameter(A)\n",
    "end = time.time()"
   ]
  },
  {
   "cell_type": "code",
   "execution_count": 21,
   "id": "e292cc39",
   "metadata": {},
   "outputs": [
    {
     "name": "stdout",
     "output_type": "stream",
     "text": [
      "Time taken = 885.2624042034149 seconds\n"
     ]
    }
   ],
   "source": [
    "print(\"Time taken =\", end-start, \"seconds\")"
   ]
  },
  {
   "cell_type": "code",
   "execution_count": 22,
   "id": "c7490508",
   "metadata": {},
   "outputs": [
    {
     "name": "stdout",
     "output_type": "stream",
     "text": [
      "37\n"
     ]
    }
   ],
   "source": [
    "print(diameter)"
   ]
  },
  {
   "cell_type": "markdown",
   "id": "644eede0",
   "metadata": {},
   "source": [
    "# Centrality measures"
   ]
  },
  {
   "cell_type": "code",
   "execution_count": 23,
   "id": "c3b872fd",
   "metadata": {},
   "outputs": [],
   "source": [
    "#degree centrality \n",
    "D = nx.degree_centrality(A)"
   ]
  },
  {
   "cell_type": "code",
   "execution_count": 24,
   "id": "1231715b",
   "metadata": {
    "scrolled": false
   },
   "outputs": [
    {
     "name": "stderr",
     "output_type": "stream",
     "text": [
      "/var/folders/qc/xq4mp0092_jcyglsdj9mtc440000gn/T/ipykernel_60128/1607284615.py:23: DeprecationWarning: Sampling from a set deprecated\n",
      "since Python 3.9 and will be removed in a subsequent version.\n",
      "  nodes_to_remove_list1 = random.sample(initial_graph1.nodes, nodes_to_remove)\n"
     ]
    },
    {
     "name": "stdout",
     "output_type": "stream",
     "text": [
      "11986\n",
      "11139\n",
      "10392\n",
      "9476\n",
      "8773\n",
      "7121\n",
      "6084\n",
      "5247\n",
      "4093\n",
      "3085\n",
      "2039\n",
      "463\n",
      "22\n"
     ]
    }
   ],
   "source": [
    "import networkx as nx\n",
    "import matplotlib.pyplot as plt\n",
    "import random\n",
    "\n",
    "# Initialize lists to store results\n",
    "fraction_removed1 = []\n",
    "diameters1 = []\n",
    "\n",
    "initial_graph1=A.copy()\n",
    "\n",
    "# Set the number of nodes to remove at each iteration\n",
    "nodes_to_remove = 300\n",
    "\n",
    "# Get the initial number of nodes in the graph\n",
    "initial_node_count = len(initial_graph1.nodes())\n",
    "\n",
    "\n",
    "# Loop to iteratively remove nodes and compute diameter, whit the subscript 1 we refer to the removal a random sample,\n",
    "#while with the subscript 2 we refer tot eh removal of the nodes with the largest connectivity\n",
    "while len(initial_graph1.nodes()) > nodes_to_remove:\n",
    "    \n",
    "    # Randomly sample nodes to remove\n",
    "    nodes_to_remove_list1 = random.sample(initial_graph1.nodes, nodes_to_remove)\n",
    "\n",
    "    \n",
    "    # Create a copy of the graph and remove the sampled nodes\n",
    "    new_graph1 = initial_graph1.copy()\n",
    "    tmp1=new_graph1.remove_nodes_from(nodes_to_remove_list1)\n",
    "    tmp_graph1=new_graph1.subgraph(tmp1) \n",
    "   \n",
    "    \n",
    "    largest_cc_tmp1=max(nx.connected_components(tmp_graph1), key=len)\n",
    "    initial_graph1=tmp_graph1.subgraph(largest_cc_tmp1)\n",
    "    \n",
    "\n",
    "    # Compute the diameter of the remaining graph\n",
    "    diameter1 = nx.diameter(initial_graph1)\n",
    "    \n",
    "    # Calculate the fraction of removed nodes\n",
    "    removed_fraction1 = (initial_node_count - len(initial_graph1.nodes())) / initial_node_count\n",
    "    \n",
    "    # Append results to lists\n",
    "    fraction_removed1.append(removed_fraction1)\n",
    "    diameters1.append(diameter1)\n",
    "\n",
    "    print(len(initial_graph1.nodes()))"
   ]
  },
  {
   "cell_type": "code",
   "execution_count": 25,
   "id": "f2fe327a",
   "metadata": {},
   "outputs": [
    {
     "name": "stdout",
     "output_type": "stream",
     "text": [
      "11357\n",
      "10106\n",
      "9205\n",
      "8159\n",
      "6444\n",
      "5214\n",
      "3112\n",
      "651\n",
      "46\n"
     ]
    }
   ],
   "source": [
    "# Initialize lists to store results\n",
    "fraction_removed2 = []\n",
    "diameters2 = []\n",
    "\n",
    "# Assuming you already have the graph 'A' defined\n",
    "initial_graph2 = A.copy()\n",
    "\n",
    "# Set the number of nodes to remove at each iteration\n",
    "nodes_to_remove = 50\n",
    "\n",
    "# Get the initial number of nodes in the graph\n",
    "initial_node_count = len(initial_graph2.nodes())\n",
    "\n",
    "# Loop to iteratively remove nodes and compute diameter for initial_graph2\n",
    "while len(initial_graph2.nodes()) > nodes_to_remove:\n",
    "    \n",
    "    # Calculate degree centrality for all nodes\n",
    "    degree_centrality = nx.degree_centrality(initial_graph2)\n",
    "    \n",
    "    # Sort nodes by degree centrality in descending order\n",
    "    sorted_nodes_by_centrality = sorted(degree_centrality.items(), key=lambda x: x[1], reverse=True)\n",
    "    \n",
    "    # Get the top 300 nodes with highest degree centrality\n",
    "    nodes_to_remove_list2 = [node for node, centrality in sorted_nodes_by_centrality[:nodes_to_remove]]\n",
    "    \n",
    "    # Create a copy of the graph and remove the nodes with highest degree centrality\n",
    "    new_graph2 = initial_graph2.copy()\n",
    "    new_graph2.remove_nodes_from(nodes_to_remove_list2)\n",
    "    \n",
    "    # Compute the diameter of the remaining graph\n",
    "    largest_cc_tmp2 = max(nx.connected_components(new_graph2), key=len)\n",
    "    initial_graph2 = new_graph2.subgraph(largest_cc_tmp2)\n",
    "    diameter2 = nx.diameter(initial_graph2)\n",
    "    \n",
    "    # Calculate the fraction of removed nodes\n",
    "    removed_fraction2 = (initial_node_count - len(initial_graph2.nodes())) / initial_node_count\n",
    "    \n",
    "    # Append results to lists\n",
    "    fraction_removed2.append(removed_fraction2)\n",
    "    diameters2.append(diameter2)\n",
    "    print(len(initial_graph2.nodes()))"
   ]
  },
  {
   "cell_type": "code",
   "execution_count": 28,
   "id": "bc7509b5",
   "metadata": {},
   "outputs": [
    {
     "data": {
      "image/png": "[encoded data removed]",
      "text/plain": [
       "<Figure size 1000x600 with 1 Axes>"
      ]
     },
     "metadata": {},
     "output_type": "display_data"
    }
   ],
   "source": [
    "# Plot the changes in diameter as a function of the fraction of removed nodes\n",
    "plt.figure(figsize=(10, 6))\n",
    "plt.scatter(fraction_removed1, diameters1, marker='o', linestyle='-', color='b',label='Error')\n",
    "plt.scatter(fraction_removed2, diameters2, marker='o', linestyle='-', color='r',label='Attack')\n",
    "plt.xlabel('Fraction of Removed Nodes')\n",
    "plt.ylabel('Diameter')\n",
    "plt.axhline(diameter, label='Diameter of A')\n",
    "plt.title('Error vs Attack perturbation')\n",
    "plt.legend(loc='upper right')\n",
    "plt.grid(True)\n",
    "plt.show()\n"
   ]
  },
  {
   "cell_type": "code",
   "execution_count": null,
   "id": "aa5fb97f",
   "metadata": {},
   "outputs": [],
   "source": []
  }
 ],
 "metadata": {
  "kernelspec": {
   "display_name": "Python 3 (ipykernel)",
   "language": "python",
   "name": "python3"
  },
  "language_info": {
   "codemirror_mode": {
    "name": "ipython",
    "version": 3
   },
   "file_extension": ".py",
   "mimetype": "text/x-python",
   "name": "python",
   "nbconvert_exporter": "python",
   "pygments_lexer": "ipython3",
   "version": "3.9.16"
  }
 },
 "nbformat": 4,
 "nbformat_minor": 5
}

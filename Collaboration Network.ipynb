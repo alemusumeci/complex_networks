{
 "cells": [
  {
   "cell_type": "markdown",
   "id": "ee66a1aa",
   "metadata": {},
   "source": [
    "# Construction of the network"
   ]
  },
  {
   "cell_type": "code",
   "execution_count": 1,
   "id": "4bdd7545",
   "metadata": {},
   "outputs": [],
   "source": [
    "import csv\n",
    "import pandas as pd\n",
    "from collections import Counter\n",
    "from itertools import permutations\n",
    "from itertools import combinations\n",
    "import matplotlib.pyplot as plt\n",
    "from networkx.algorithms import bipartite\n",
    "import networkx as nx"
   ]
  },
  {
   "cell_type": "code",
   "execution_count": 2,
   "id": "64842a57",
   "metadata": {},
   "outputs": [],
   "source": [
    "file_movies = 'title.basics.tsv/title.basics.tsv'\n",
    "movies = pd.read_csv(file_movies, sep='\\t', na_values='\\\\N', dtype={\n",
    "    'tconst': 'str',\n",
    "    'titleType': 'str',\n",
    "    'primaryTitle': 'str',\n",
    "    'startYear': 'Int64',\n",
    "}, usecols=['tconst', 'titleType', 'primaryTitle', 'startYear']).set_index('tconst')"
   ]
  },
  {
   "cell_type": "code",
   "execution_count": 3,
   "id": "c600a9c3",
   "metadata": {},
   "outputs": [],
   "source": [
    "movies = movies[(movies['startYear'] >= 1923) & (movies['titleType'] == 'movie')] \n",
    "del movies['titleType']"
   ]
  },
  {
   "cell_type": "code",
   "execution_count": 4,
   "id": "dd7ee2f7",
   "metadata": {},
   "outputs": [],
   "source": [
    "file_cast = 'title.principals.tsv/title.principal.tsv'\n",
    "cast = pd.read_csv(file_cast, sep='\\t', na_values='\\\\N', dtype={\n",
    "    'tconst': 'str',\n",
    "    'nconst': 'str',\n",
    "    'category': 'str',\n",
    "}, usecols=['tconst', 'nconst', 'category'])"
   ]
  },
  {
   "cell_type": "code",
   "execution_count": 5,
   "id": "0ed19d00",
   "metadata": {},
   "outputs": [],
   "source": [
    "cast = cast[cast.category.isin({'actor', 'actress'}) & cast['tconst'].isin(movies.index)]\n",
    "cast.reset_index(drop=True, inplace=True)"
   ]
  },
  {
   "cell_type": "code",
   "execution_count": 57,
   "id": "82ba0dce",
   "metadata": {},
   "outputs": [],
   "source": [
    "file_name='name.basics.tsv/name.basics.tsv'\n",
    "name = pd.read_csv(file_name, sep='\\t', na_values='\\\\N', dtype={\n",
    "    'nconst': 'str',\n",
    "    'primaryName': 'str',\n",
    "    'birthYear': 'Int64'\n",
    "}, usecols=['nconst', 'primaryName', 'birthYear']).set_index('nconst')"
   ]
  },
  {
   "cell_type": "markdown",
   "id": "cc38655d",
   "metadata": {},
   "source": [
    "Creation of the network"
   ]
  },
  {
   "cell_type": "code",
   "execution_count": 7,
   "id": "93809b8a",
   "metadata": {},
   "outputs": [],
   "source": [
    "#we create a bipartite network:\n",
    "B = nx.Graph()\n",
    "\n",
    "actors = cast['nconst'].unique()\n",
    "movies = movies.index.unique()\n",
    "\n",
    "B.add_nodes_from(actors, bipartite=0)  # Actors belong to set 0\n",
    "B.add_nodes_from(movies, bipartite=1)  # Movies belong to set 1\n",
    "\n",
    "\n",
    "for _, row in cast.iterrows():\n",
    "    actor = row['nconst']\n",
    "    movie = row['tconst']\n",
    "    B.add_edge(actor, movie)"
   ]
  },
  {
   "cell_type": "code",
   "execution_count": 61,
   "id": "66558760",
   "metadata": {},
   "outputs": [
    {
     "name": "stdout",
     "output_type": "stream",
     "text": [
      "Number of Actors: 687423\n",
      "Number of Movies: 563461\n"
     ]
    }
   ],
   "source": [
    "print(\"Number of Actors:\", len(actors))\n",
    "print(\"Number of Movies:\", len(movies))"
   ]
  },
  {
   "cell_type": "code",
   "execution_count": null,
   "id": "362bc57e",
   "metadata": {},
   "outputs": [],
   "source": [
    "B.number_of_edges()"
   ]
  },
  {
   "cell_type": "code",
   "execution_count": 9,
   "id": "84ba0a98",
   "metadata": {},
   "outputs": [],
   "source": [
    "proj_actors= bipartite.projected_graph(B, actors)"
   ]
  },
  {
   "cell_type": "code",
   "execution_count": 10,
   "id": "47396875",
   "metadata": {},
   "outputs": [
    {
     "data": {
      "text/plain": [
       "False"
      ]
     },
     "execution_count": 10,
     "metadata": {},
     "output_type": "execute_result"
    }
   ],
   "source": [
    "nx.is_connected(proj_actors)"
   ]
  },
  {
   "cell_type": "code",
   "execution_count": 11,
   "id": "d10f7a46",
   "metadata": {},
   "outputs": [],
   "source": [
    "conn_comp=[len(c) for c in sorted(nx.connected_components(proj_actors), key=len, reverse=True)]"
   ]
  },
  {
   "cell_type": "code",
   "execution_count": 12,
   "id": "f3fe0477",
   "metadata": {},
   "outputs": [],
   "source": [
    "largest_cc = max(nx.connected_components(proj_actors), key=len)"
   ]
  },
  {
   "cell_type": "code",
   "execution_count": 13,
   "id": "8b0752c2",
   "metadata": {},
   "outputs": [],
   "source": [
    "A = proj_actors.subgraph(largest_cc)"
   ]
  },
  {
   "cell_type": "code",
   "execution_count": 14,
   "id": "055b99ac",
   "metadata": {},
   "outputs": [
    {
     "data": {
      "text/plain": [
       "521964"
      ]
     },
     "execution_count": 14,
     "metadata": {},
     "output_type": "execute_result"
    }
   ],
   "source": [
    "A.number_of_nodes()"
   ]
  },
  {
   "cell_type": "code",
   "execution_count": 16,
   "id": "6f2bf8c2",
   "metadata": {},
   "outputs": [
    {
     "data": {
      "text/plain": [
       "3012174"
      ]
     },
     "execution_count": 16,
     "metadata": {},
     "output_type": "execute_result"
    }
   ],
   "source": [
    "A.number_of_edges()"
   ]
  },
  {
   "cell_type": "markdown",
   "id": "1573f8d2",
   "metadata": {},
   "source": [
    "# Centrality measures"
   ]
  },
  {
   "cell_type": "code",
   "execution_count": 18,
   "id": "bc87d9c7",
   "metadata": {},
   "outputs": [
    {
     "name": "stdout",
     "output_type": "stream",
     "text": [
      "Time taken = 8.164932250976562 seconds\n"
     ]
    }
   ],
   "source": [
    "import time\n",
    "start = time.time()\n",
    "D = nx.degree_centrality(A)\n",
    "end = time.time()\n",
    "print(\"Time taken =\", end-start, \"seconds\")"
   ]
  },
  {
   "cell_type": "code",
   "execution_count": 59,
   "id": "c52861f6",
   "metadata": {
    "scrolled": true
   },
   "outputs": [
    {
     "name": "stdout",
     "output_type": "stream",
     "text": [
      "Brahmanandam with degree 0.0017951463992658483\n",
      "Eric Roberts with degree 0.001672532344246623\n",
      "Ron Jeremy with degree 0.0014886112617177847\n",
      "Eddie Garcia with degree 0.0014637052817920045\n",
      "Masayoshi Nogami with degree 0.0014196408557694703\n",
      "Shakti Kapoor with degree 0.0012702049762147892\n",
      "Turgut Özatay with degree 0.0012702049762147892\n",
      "Paquito Diaz with degree 0.00124913068550836\n",
      "Mithun Chakraborty with degree 0.0012318880840212812\n",
      "Master Bhagwan with degree 0.0011801602795600454\n"
     ]
    }
   ],
   "source": [
    "sorted_nodes = sorted(D.items(), key=lambda x: x[1], reverse=True)\n",
    "for i in range(10): \n",
    "    actor_id, centrality = sorted_nodes[i]\n",
    "    name_actor=get_name_actor(actor_id)\n",
    "    print(name_actor,'with degree',centrality)"
   ]
  },
  {
   "cell_type": "code",
   "execution_count": 60,
   "id": "1b1bc2fd",
   "metadata": {
    "scrolled": true
   },
   "outputs": [
    {
     "name": "stdout",
     "output_type": "stream",
     "text": [
      "Time taken = 52208.20053887367 seconds\n",
      "Brahmanandam\n",
      "Eric Roberts\n",
      "Ron Jeremy\n",
      "Eddie Garcia\n",
      "Masayoshi Nogami\n",
      "Shakti Kapoor\n",
      "Turgut Özatay\n",
      "Paquito Diaz\n",
      "Mithun Chakraborty\n",
      "Master Bhagwan\n"
     ]
    }
   ],
   "source": [
    "start = time.time()\n",
    "BC = nx.betweenness_centrality(A, k=1000) \n",
    "end = time.time()"
   ]
  },
  {
   "cell_type": "code",
   "execution_count": 63,
   "id": "bf0b4000",
   "metadata": {},
   "outputs": [
    {
     "name": "stdout",
     "output_type": "stream",
     "text": [
      "Eric Roberts with degree 0.048288455723391965\n",
      "Michael Madsen with degree 0.016994828012109223\n",
      "John Savage with degree 0.012934804664746115\n",
      "Gulshan Grover with degree 0.012867073996874734\n",
      "Ron Jeremy with degree 0.011515190251579365\n",
      "Tom Sizemore with degree 0.011303828389304615\n",
      "Franco Nero with degree 0.010683564721623427\n",
      "Anupam Kher with degree 0.009828306807125256\n",
      "Om Puri with degree 0.008503460918482557\n",
      "Tony Devon with degree 0.008490679169494099\n"
     ]
    }
   ],
   "source": [
    "btw_sorted= sorted(BC.items(), key=lambda item: item[1], reverse=True)\n",
    "for i in range(10): \n",
    "    actor_id, btw_centrality = btw_sorted[i]\n",
    "    #actor_name = get_name(actor_id)\n",
    "    name_actor=get_name_actor(actor_id)\n",
    "    print(name_actor,'with betweenness centrality',btw_centrality)"
   ]
  },
  {
   "cell_type": "code",
   "execution_count": null,
   "id": "13abf333",
   "metadata": {},
   "outputs": [],
   "source": [
    "V = [btw_sorted[i][0] for i in range(len(btw_sorted))]\n",
    "clos_centr = {}\n",
    "start = time.time()\n",
    "for i in range(1000):\n",
    "    clos_centr[V[i]] = nx.closeness_centrality(A, clos_centr[i])\n",
    "end = time.time()\n",
    "print(\"Time taken =\", end-start, \"seconds\")\n",
    "cc_sorted = sorted(clos_centr.items(), key=lambda item: item[1], reverse=True)\n",
    "for i in range(5): print(cc_sorted[i][0], \":\", L[i][1])"
   ]
  },
  {
   "cell_type": "code",
   "execution_count": null,
   "id": "eaa33849",
   "metadata": {},
   "outputs": [],
   "source": [
    "for i in range(10): \n",
    "    actor_id, clos_centrality = cc_sorted[i]\n",
    "    #actor_name = get_name(actor_id)\n",
    "    name_actor=get_name_actor(actor_id)\n",
    "    print(name_actor,'with betweenness centrality',clos_centrality)"
   ]
  },
  {
   "cell_type": "markdown",
   "id": "01162009",
   "metadata": {},
   "source": [
    "# Community structure"
   ]
  },
  {
   "cell_type": "markdown",
   "id": "d18f9d4b",
   "metadata": {},
   "source": [
    "Clustering coefficient"
   ]
  },
  {
   "cell_type": "code",
   "execution_count": 65,
   "id": "41971a54",
   "metadata": {},
   "outputs": [],
   "source": [
    "clus_coeff = nx.clustering(A)"
   ]
  },
  {
   "cell_type": "code",
   "execution_count": 66,
   "id": "312d8927",
   "metadata": {},
   "outputs": [
    {
     "data": {
      "image/png": "[encoded data removed]",
      "text/plain": [
       "<Figure size 640x480 with 1 Axes>"
      ]
     },
     "metadata": {},
     "output_type": "display_data"
    }
   ],
   "source": [
    "plt.hist(list(clus_coeff.values()), bins=20, edgecolor='k')\n",
    "plt.xlabel('Clustering Coefficient')\n",
    "plt.ylabel('Frequency')\n",
    "plt.title('Clustering Coefficient Distribution')\n",
    "plt.show()"
   ]
  },
  {
   "cell_type": "markdown",
   "id": "156027d6",
   "metadata": {},
   "source": [
    "# Community detection"
   ]
  },
  {
   "cell_type": "code",
   "execution_count": 68,
   "id": "a37c666c",
   "metadata": {},
   "outputs": [
    {
     "name": "stdout",
     "output_type": "stream",
     "text": [
      "Time taken = 356.7162961959839 seconds\n"
     ]
    }
   ],
   "source": [
    "start = time.time()\n",
    "louvain_communities=nx.community.louvain_communities(A)\n",
    "end = time.time()\n",
    "print(\"Time taken =\", end-start, \"seconds\")"
   ]
  },
  {
   "cell_type": "code",
   "execution_count": null,
   "id": "b9a7df32",
   "metadata": {},
   "outputs": [],
   "source": [
    "start = time.time()\n",
    "cnm_communities=nx.community.greedy_modularity_communities(A)\n",
    "end = time.time()\n",
    "print(\"Time taken =\", end-start, \"seconds\")"
   ]
  },
  {
   "cell_type": "code",
   "execution_count": null,
   "id": "c23f596a",
   "metadata": {},
   "outputs": [],
   "source": [
    "# Count how many communities have each size\n",
    "start=time.time()\n",
    "community_sizes_l = [len(community) for community in louvain_communities]\n",
    "\n",
    "size_count_l = Counter(community_sizes_l)\n",
    "\n",
    "# Extract the sizes and counts\n",
    "sizes, counts = zip(*size_counts_l.items())\n",
    "\n",
    "end = time.time()\n",
    "print(\"Time taken =\", end-start, \"seconds\")\n",
    "\n",
    "# Plot the histogram\n",
    "plt.figure(figsize=(10, 6))\n",
    "plt.bar(sizes, counts, width=1.0, edgecolor='black')\n",
    "plt.xlabel('Community Size')\n",
    "plt.ylabel('Number of Communities')\n",
    "plt.title('Histogram of Louvain Communities')\n",
    "#plt.grid(axis='y', linestyle='--', alpha=0.7)\n",
    "plt.show()"
   ]
  },
  {
   "cell_type": "code",
   "execution_count": null,
   "id": "a77a939a",
   "metadata": {},
   "outputs": [],
   "source": [
    "# Count how many communities have each size\n",
    "start=time.time()\n",
    "community_sizes_cnm = [len(community) for community in cnm_communities]\n",
    "\n",
    "size_count_cnm = Counter(community_sizes_cnm)\n",
    "\n",
    "# Extract the sizes and counts\n",
    "sizes_cnm, counts_cnm = zip(*size_counts_cnm.items())\n",
    "\n",
    "end = time.time()\n",
    "print(\"Time taken =\", end-start, \"seconds\")\n",
    "\n",
    "# Plot the histogram\n",
    "plt.figure(figsize=(10, 6))\n",
    "plt.bar(sizes_cnm, counts_cnm, width=1.0, edgecolor='black')\n",
    "plt.xlabel('Community Size')\n",
    "plt.ylabel('Number of Communities')\n",
    "plt.title('Histogram of CNM Communities')\n",
    "#plt.grid(axis='y', linestyle='--', alpha=0.7)\n",
    "plt.show()"
   ]
  },
  {
   "cell_type": "markdown",
   "id": "51f18fd4",
   "metadata": {},
   "source": [
    "# Assortativity"
   ]
  },
  {
   "cell_type": "code",
   "execution_count": null,
   "id": "bc85cc81",
   "metadata": {},
   "outputs": [],
   "source": [
    "node_degrees = dict(A.degree())\n",
    "average_degree_connectivity = nx.average_degree_connectivity(A,weight=collaboration_weight)\n",
    "\n",
    "degrees = list(node_degrees.values())\n",
    "avg_deg_connectivity = [average_degree_connectivity[deg] for deg in degrees]"
   ]
  },
  {
   "cell_type": "code",
   "execution_count": null,
   "id": "41fd1f25",
   "metadata": {},
   "outputs": [],
   "source": [
    "plt.scatter(degrees, avg_deg_connectivity, alpha=0.5)\n",
    "plt.xlabel(\"$k$\")\n",
    "plt.ylabel(\"$\\langle k_{NN} \\rangle$\")\n",
    "plt.title(\"Node Degree vs. Average Degree Connectivity\")\n",
    "plt.grid(True)\n",
    "plt.show()"
   ]
  },
  {
   "cell_type": "code",
   "execution_count": null,
   "id": "b402019a",
   "metadata": {},
   "outputs": [],
   "source": [
    "degrees = [degree for _, degree in nx.degree(A)]\n",
    "\n",
    "clustering_coeffs = list(nx.clustering(A).values())"
   ]
  },
  {
   "cell_type": "code",
   "execution_count": null,
   "id": "3c2db2c5",
   "metadata": {},
   "outputs": [],
   "source": [
    "# Create a scatter plot\n",
    "plt.scatter(degrees, clustering_coeffs, alpha=0.5)\n",
    "plt.xlabel('Node Degree')\n",
    "plt.ylabel('Average Clustering Coefficient')\n",
    "plt.title('Degree vs. Average Clustering Coefficient')\n",
    "plt.grid(True)\n",
    "plt.show()"
   ]
  },
  {
   "cell_type": "code",
   "execution_count": null,
   "id": "93ce291a",
   "metadata": {},
   "outputs": [],
   "source": [
    "nx.degree_assortativity_coefficient(A)"
   ]
  }
 ],
 "metadata": {
  "kernelspec": {
   "display_name": "Python 3 (ipykernel)",
   "language": "python",
   "name": "python3"
  },
  "language_info": {
   "codemirror_mode": {
    "name": "ipython",
    "version": 3
   },
   "file_extension": ".py",
   "mimetype": "text/x-python",
   "name": "python",
   "nbconvert_exporter": "python",
   "pygments_lexer": "ipython3",
   "version": "3.9.16"
  }
 },
 "nbformat": 4,
 "nbformat_minor": 5
}
